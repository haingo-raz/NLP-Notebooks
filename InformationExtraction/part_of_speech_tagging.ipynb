{
 "cells": [
  {
   "cell_type": "markdown",
   "metadata": {},
   "source": [
    "# Part of Speech Tagging"
   ]
  },
  {
   "cell_type": "markdown",
   "metadata": {},
   "source": [
    "Part of speech tagging help with tasks that involve understanding the structure and meaning of natural language text."
   ]
  },
  {
   "cell_type": "code",
   "execution_count": 1,
   "metadata": {},
   "outputs": [],
   "source": [
    "import spacy"
   ]
  },
  {
   "cell_type": "code",
   "execution_count": 2,
   "metadata": {},
   "outputs": [
    {
     "name": "stdout",
     "output_type": "stream",
     "text": [
      "Your --> PRON\n",
      "products --> NOUN\n",
      "are --> AUX\n",
      "awesome --> ADJ\n",
      "! --> PUNCT\n",
      "However --> ADV\n",
      ", --> PUNCT\n",
      "your --> PRON\n",
      "customer --> NOUN\n",
      "service --> NOUN\n",
      "is --> AUX\n",
      "terrible --> ADJ\n",
      ". --> PUNCT\n"
     ]
    }
   ],
   "source": [
    "nlp = spacy.load(\"en_core_web_sm\")\n",
    "\n",
    "text = \"Your products are awesome! However, your customer service is terrible.\"\n",
    "\n",
    "doc = nlp(text)\n",
    "\n",
    "pos_tags = [(token.text, token.pos_) for token in doc]\n",
    "\n",
    "# Print parts-of-speech tags\n",
    "for token, pos in pos_tags:\n",
    "    print(f\"{token} --> {pos}\")"
   ]
  }
 ],
 "metadata": {
  "kernelspec": {
   "display_name": "base",
   "language": "python",
   "name": "python3"
  },
  "language_info": {
   "codemirror_mode": {
    "name": "ipython",
    "version": 3
   },
   "file_extension": ".py",
   "mimetype": "text/x-python",
   "name": "python",
   "nbconvert_exporter": "python",
   "pygments_lexer": "ipython3",
   "version": "3.11.7"
  }
 },
 "nbformat": 4,
 "nbformat_minor": 2
}
