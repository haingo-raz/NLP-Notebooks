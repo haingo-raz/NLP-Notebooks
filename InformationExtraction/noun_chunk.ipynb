{
 "cells": [
  {
   "cell_type": "markdown",
   "metadata": {},
   "source": [
    "# Noun chunk"
   ]
  },
  {
   "cell_type": "markdown",
   "metadata": {},
   "source": [
    "Noun chuncks "
   ]
  },
  {
   "cell_type": "code",
   "execution_count": 1,
   "metadata": {},
   "outputs": [],
   "source": [
    "import spacy"
   ]
  },
  {
   "cell_type": "code",
   "execution_count": 4,
   "metadata": {},
   "outputs": [
    {
     "name": "stdout",
     "output_type": "stream",
     "text": [
      "Sentence 1: I usually have soup and a sandwich for lunch.\n",
      "  Noun chunk: I\n",
      "  Noun chunk: soup\n",
      "  Noun chunk: a sandwich\n",
      "  Noun chunk: lunch\n",
      "Sentence 2: I cook at home during the weekend.\n",
      "  Noun chunk: I\n",
      "  Noun chunk: home\n",
      "  Noun chunk: the weekend\n",
      "Sentence 3: However, when I am quite busy, my partner cooks for me.\n",
      "  Noun chunk: I\n",
      "  Noun chunk: my partner\n",
      "  Noun chunk: me\n",
      "Sentence 4: He usually cooks fried rice and fried veggies\n",
      "  Noun chunk: He\n",
      "  Noun chunk: fried rice\n",
      "  Noun chunk: fried veggies\n"
     ]
    }
   ],
   "source": [
    "nlp = spacy.load(\"en_core_web_sm\")\n",
    "\n",
    "text = \"I usually have soup and a sandwich for lunch. I cook at home during the weekend. However, when I am quite busy, my partner cooks for me. He usually cooks fried rice and fried veggies\"\n",
    "\n",
    "# Process the text\n",
    "doc = nlp(text)\n",
    "\n",
    "# Return the noun chunks\n",
    "for idx, sentence in enumerate(doc.sents):\n",
    "    print(f\"Sentence {idx+1}: {sentence.text}\")\n",
    "\n",
    "    for noun in sentence.noun_chunks:\n",
    "        print(f\"  Noun chunk: {noun.text}\")"
   ]
  },
  {
   "cell_type": "markdown",
   "metadata": {},
   "source": [
    "References:\n",
    "\n",
    "https://www.kaggle.com/code/nirant/hitchhiker-s-guide-to-nlp-in-spacy"
   ]
  }
 ],
 "metadata": {
  "kernelspec": {
   "display_name": "base",
   "language": "python",
   "name": "python3"
  },
  "language_info": {
   "codemirror_mode": {
    "name": "ipython",
    "version": 3
   },
   "file_extension": ".py",
   "mimetype": "text/x-python",
   "name": "python",
   "nbconvert_exporter": "python",
   "pygments_lexer": "ipython3",
   "version": "3.11.7"
  }
 },
 "nbformat": 4,
 "nbformat_minor": 2
}
