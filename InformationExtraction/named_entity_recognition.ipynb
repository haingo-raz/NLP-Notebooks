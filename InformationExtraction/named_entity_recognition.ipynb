{
 "cells": [
  {
   "cell_type": "markdown",
   "metadata": {},
   "source": [
    "# Named-Entity Recognition (NER)"
   ]
  },
  {
   "cell_type": "markdown",
   "metadata": {},
   "source": [
    "NER also referred to as entity identification, entity chucking, and entity extraction is a technique that focuses on identifying and classifying entities.\n",
    "\n",
    "A named entity can be defined as proper names and quantities of interest on the level of entity extraction. It can be a person, organization, location names, dates, times, percentages, and monetary amounts.\n",
    "\n",
    "NER are used in applications such as:\n",
    "- Question answering\n",
    "- Information retrieval\n",
    "- Machine translation\n",
    "\n",
    "The steps involved in NER:\n",
    "- Detecting the entities from the text\n",
    "- Classifying them into different categories"
   ]
  },
  {
   "cell_type": "code",
   "execution_count": 7,
   "metadata": {},
   "outputs": [],
   "source": [
    "import spacy\n",
    "from spacy import displacy"
   ]
  },
  {
   "cell_type": "code",
   "execution_count": 6,
   "metadata": {},
   "outputs": [
    {
     "name": "stdout",
     "output_type": "stream",
     "text": [
      "Named Entities:\n",
      "Josh (PERSON)\n",
      "Paris (GPE)\n",
      "two (CARDINAL)\n"
     ]
    }
   ],
   "source": [
    "nlp = spacy.load(\"en_core_web_sm\")\n",
    "\n",
    "text = \"Josh went to Paris just to buy two pieces of bread.\"\n",
    "\n",
    "# Process the text using spaCy\n",
    "doc = nlp(text)\n",
    "\n",
    "# Extract the named entities\n",
    "entities = [(ent.text, ent.label_) for ent in doc.ents]\n",
    "\n",
    "# Print the named entities\n",
    "print(\"Named Entities:\")\n",
    "for entity, label in entities:\n",
    "    print(f\"{entity} ({label})\")\n"
   ]
  },
  {
   "cell_type": "code",
   "execution_count": 12,
   "metadata": {},
   "outputs": [
    {
     "name": "stdout",
     "output_type": "stream",
     "text": [
      "Named Entities:\n",
      "two (CARDINAL)\n"
     ]
    }
   ],
   "source": [
    "text = \"For breakfast, I do not like eating too much. Since I do not have that much free time in the morning, I usually skip it. However sometimes, I have a small bowl of cereals and two bananas.\"\n",
    "\n",
    "# Process the text using spaCy\n",
    "doc = nlp(text)\n",
    "\n",
    "# Extract the named entities\n",
    "entities = [(ent.text, ent.label_) for ent in doc.ents]\n",
    "\n",
    "# Print the named entities\n",
    "print(\"Named Entities:\")\n",
    "for entity, label in entities:\n",
    "    print(f\"{entity} ({label})\")\n"
   ]
  },
  {
   "cell_type": "markdown",
   "metadata": {},
   "source": [
    "Bibliography"
   ]
  },
  {
   "cell_type": "markdown",
   "metadata": {},
   "source": [
    "- GeeksforGeeks (2024) Named Entity Recognition. Available at: https://www.geeksforgeeks.org/named-entity-recognition/ \n",
    "- Wiley (n.d.) Named Entities: Current Definitions. Available at: https://onlinelibrary.wiley.com/doi/pdf/10.1002/9781119268567.app5\n"
   ]
  }
 ],
 "metadata": {
  "kernelspec": {
   "display_name": "base",
   "language": "python",
   "name": "python3"
  },
  "language_info": {
   "codemirror_mode": {
    "name": "ipython",
    "version": 3
   },
   "file_extension": ".py",
   "mimetype": "text/x-python",
   "name": "python",
   "nbconvert_exporter": "python",
   "pygments_lexer": "ipython3",
   "version": "3.11.7"
  }
 },
 "nbformat": 4,
 "nbformat_minor": 2
}
